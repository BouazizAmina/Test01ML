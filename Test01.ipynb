{
  "nbformat": 4,
  "nbformat_minor": 0,
  "metadata": {
    "colab": {
      "name": "Test01.ipynb",
      "provenance": []
    },
    "kernelspec": {
      "name": "python3",
      "display_name": "Python 3"
    }
  },
  "cells": [
    {
      "cell_type": "markdown",
      "metadata": {
        "id": "WYm7ckZE57rl"
      },
      "source": [
        "## **General**\r\n",
        "1- What's the difference between a Machine Learning (ML) Model and a Machine Learning algorithm.\r\n",
        "\r\n",
        "2- Why we need to study Linear Algebra for ML?"
      ]
    },
    {
      "cell_type": "markdown",
      "metadata": {
        "id": "vmgZdLTrdnel"
      },
      "source": [
        "# Responses:\r\n",
        "1-ML model: function that maps inputs to outputs by algorithms \r\n",
        "ML algorithm : procedures implemented in code and run on data and it's a system of prediction of input data\r\n",
        "\r\n",
        "2-it allows to formalise intuitive concepts and facilitate the code of algorithms and make de better decisions."
      ]
    },
    {
      "cell_type": "markdown",
      "metadata": {
        "id": "SPBs8VixeD8G"
      },
      "source": [
        "**## Vectors:**\r\n",
        "\r\n",
        "**1- create a vector: **\r\n",
        "\r\n",
        "Our vector can be written as v=(2,1), but more formally we would use the following notation, in which the dimensional coordinate values for the vector are shown as a matrix:$$\\vec{v} = \\begin{bmatrix}2 \\\\ 1 \\end{bmatrix}$$"
      ]
    },
    {
      "cell_type": "code",
      "metadata": {
        "id": "pYlRp9O5gOcZ"
      },
      "source": [
        "import numpy as np\r\n",
        "#TO DO...\r\n",
        "vector_colomn=np.array([[2],[1]])\r\n",
        "\r\n",
        "print(v)"
      ],
      "execution_count": null,
      "outputs": []
    },
    {
      "cell_type": "markdown",
      "metadata": {
        "id": "I3HPxUfQgpp2"
      },
      "source": [
        "### **2-Calculating Magnitude**"
      ]
    },
    {
      "cell_type": "code",
      "metadata": {
        "id": "mIXSLO7dhGzp"
      },
      "source": [
        "import math\r\n",
        "#TO DO... \r\n",
        "vector_colomn=np.array([[2],[1]])\r\n",
        "magnitude=np.linalg.norm(vector)\r\n",
        "print(magnitude)\r\n"
      ],
      "execution_count": null,
      "outputs": []
    },
    {
      "cell_type": "markdown",
      "metadata": {
        "id": "7jBRtTMdh-0H"
      },
      "source": [
        "\r\n",
        "**3- Vector Addition:**\r\n",
        "So far, we've worked with one vector at a time. What happens when you need to add two vectors.\r\n",
        "\r\n",
        "Let's take a look at an example, we already have a vector named v, as defined here:$$\\vec{v} = \\begin{bmatrix}2 \\\\ 1 \\end{bmatrix}$$Now let's create a second vector, and called s like this:$$\\vec{s} = \\begin{bmatrix}-3 \\\\ 2 \\end{bmatrix}$$\r\n",
        "\r\n",
        "And we have :$$\\vec{z} = \\vec{v}+\\vec{s}$$"
      ]
    },
    {
      "cell_type": "code",
      "metadata": {
        "id": "cyPCRCXZie9e"
      },
      "source": [
        "\r\n",
        "import math\r\n",
        "import numpy as np\r\n",
        "\r\n",
        "v = np.array([[2],[1]])\r\n",
        "s = np.array([[-3],[2]])\r\n",
        "z = v+s\r\n",
        "print (z)"
      ],
      "execution_count": null,
      "outputs": []
    },
    {
      "cell_type": "markdown",
      "metadata": {
        "id": "_CjY0iqijB5N"
      },
      "source": [
        "\r\n",
        "4- Dot Product Multiplication\r\n",
        "\r\n",
        "\r\n",
        "$$ \\vec{d}=\\vec{v} \\cdot \\vec{s} = (v_{1} \\cdot s_{1}) + (v_{2} \\cdot s_{2}) ... + \\; (v_{n} \\cdot s_{n})$$"
      ]
    },
    {
      "cell_type": "code",
      "metadata": {
        "id": "9xSZu9zWjpgr"
      },
      "source": [
        "\r\n",
        "import math\r\n",
        "import numpy as np\r\n",
        "\r\n",
        "v = np.array([[2],[1]])\r\n",
        "s = np.array([[-3],[2]])\r\n",
        "d =np.array(v) @ np.array(s)\r\n",
        "print (d)"
      ],
      "execution_count": null,
      "outputs": []
    },
    {
      "cell_type": "markdown",
      "metadata": {
        "id": "PgXPtvE5j79t"
      },
      "source": [
        "## **Matrices:**\r\n",
        "\r\n",
        "# 1- create a Matrice:\r\n",
        "A matrix arranges numbers into rows and columns, like this:\r\n",
        "\r\n",
        "$$A = \\begin{bmatrix}\r\n",
        "  1 &amp; 2 &amp; 3 \\\\\r\n",
        "  4 &amp; 5 &amp; 6\r\n",
        " \\end{bmatrix}\r\n",
        "$$"
      ]
    },
    {
      "cell_type": "code",
      "metadata": {
        "id": "uZEPEBzolG7d"
      },
      "source": [
        "import numpy as np\r\n",
        "\r\n",
        "A = np.array([[1, 2, 3],[4, 5, 6]])\r\n",
        "print (A)"
      ],
      "execution_count": null,
      "outputs": []
    },
    {
      "cell_type": "markdown",
      "metadata": {
        "id": "Ux8mSUHblecq"
      },
      "source": [
        "\r\n",
        "#2- Matrix Transposition\r\n",
        "You can transpose a matrix, that is switch the orientation of its rows and columns. You indicate this with a superscript T, like this:\r\n",
        "\r\n",
        "$$\\begin{bmatrix}1 &amp; 2 &amp; 3 \\\\4 &amp; 5 &amp; 6\\end{bmatrix}^{T} = \\begin{bmatrix}1 &amp; 42 &amp; 53 &amp; 6 \\end{bmatrix}$$"
      ]
    },
    {
      "cell_type": "markdown",
      "metadata": {
        "id": "o1DWED1nl4-Z"
      },
      "source": [
        "a- How can we do it mathematically? \r\n",
        "\r\n",
        "we remplace the first column by the first ligne and the second column by the second ligne and vice versa\r\n",
        "\r\n"
      ]
    },
    {
      "cell_type": "markdown",
      "metadata": {
        "id": "dNQOyc-jmMNg"
      },
      "source": [
        "b- with Python: "
      ]
    },
    {
      "cell_type": "code",
      "metadata": {
        "colab": {
          "base_uri": "https://localhost:8080/",
          "height": 129
        },
        "id": "wFusE1HfmCO_",
        "outputId": "7a5af01c-eea7-4b4d-ba06-4d7f1512acc0"
      },
      "source": [
        "import numpy as np\r\n",
        "\r\n",
        "A=array.transpose()\r\n"
      ],
      "execution_count": null,
      "outputs": [
        {
          "output_type": "error",
          "ename": "SyntaxError",
          "evalue": "ignored",
          "traceback": [
            "\u001b[0;36m  File \u001b[0;32m\"<ipython-input-4-0d7173d15ceb>\"\u001b[0;36m, line \u001b[0;32m3\u001b[0m\n\u001b[0;31m    A=\u001b[0m\n\u001b[0m      ^\u001b[0m\n\u001b[0;31mSyntaxError\u001b[0m\u001b[0;31m:\u001b[0m invalid syntax\n"
          ]
        }
      ]
    },
    {
      "cell_type": "markdown",
      "metadata": {
        "id": "tbRgbgdlmy0Y"
      },
      "source": [
        "## **Eigendecomposition:**\r\n",
        "\r\n",
        "So we've learned a little about eigenvalues and eigenvectors; but you may be wondering what use they are. Well, one use for them is to help decompose transformation matrices.\r\n",
        "\r\n",
        "1- How can we decompose a matrix? ( Rules and steps)\r\n",
        "2- (Bonus) Do it in python with your exampls."
      ]
    },
    {
      "cell_type": "markdown",
      "metadata": {
        "id": "zFFBuyE8o0Pu"
      },
      "source": [
        "gauss , LU , PLU , cholesky , QR"
      ]
    },
    {
      "cell_type": "code",
      "metadata": {
        "id": "UStyMfAao4DB"
      },
      "source": [
        "#2 bonus\r\n",
        "import numpy as np"
      ],
      "execution_count": null,
      "outputs": []
    }
  ]
}